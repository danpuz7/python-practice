{
 "cells": [
  {
   "cell_type": "code",
   "execution_count": 1,
   "metadata": {},
   "outputs": [],
   "source": [
    "import swimclub\n",
    "\n",
    "fn = \"Darius-13-100m-Fly.txt\"\n",
    "\n",
    "(swimmer, age, distance, stroke, *_) = swimclub.read_swim_data(fn)\n",
    "\n",
    "title = f\"{swimmer} (Under {age}) {distance} {stroke}\""
   ]
  },
  {
   "cell_type": "code",
   "execution_count": 2,
   "metadata": {},
   "outputs": [
    {
     "data": {
      "text/plain": [
       "'Darius (Under 13) 100m Fly'"
      ]
     },
     "execution_count": 2,
     "metadata": {},
     "output_type": "execute_result"
    }
   ],
   "source": [
    "title"
   ]
  },
  {
   "cell_type": "code",
   "execution_count": 3,
   "metadata": {},
   "outputs": [
    {
     "name": "stdout",
     "output_type": "stream",
     "text": [
      "<!DOCTYPE html>\n",
      "<html>\n",
      "    <head>\n",
      "        <title> Darius (Under 13) 100m Fly</title>\n",
      "    </head>\n",
      "    <body>\n",
      "        <h3>Darius (Under 13) 100m Fly</h3>\n",
      "\n"
     ]
    }
   ],
   "source": [
    "html = f\"\"\"<!DOCTYPE html>\n",
    "<html>\n",
    "    <head>\n",
    "        <title> {title}</title>\n",
    "    </head>\n",
    "    <body>\n",
    "        <h3>{title}</h3>\n",
    "\"\"\"\n",
    "print(html)\n"
   ]
  },
  {
   "cell_type": "code",
   "execution_count": 4,
   "metadata": {},
   "outputs": [
    {
     "data": {
      "text/plain": [
       "('Darius',\n",
       " '13',\n",
       " '100m',\n",
       " 'Fly',\n",
       " ['1:27.95', '1:21.07', '1:30.96', '1:23.22', '1:27.95', '1:28.30'],\n",
       " '1:26.58',\n",
       " [8795, 8107, 9096, 8322, 8795, 8830])"
      ]
     },
     "execution_count": 4,
     "metadata": {},
     "output_type": "execute_result"
    }
   ],
   "source": [
    "swimclub.read_swim_data(fn)"
   ]
  },
  {
   "cell_type": "code",
   "execution_count": 5,
   "metadata": {},
   "outputs": [],
   "source": [
    "*_, times, average, converts = swimclub.read_swim_data(fn)\n",
    "from_max = max(converts)\n",
    "import hfpy_utils\n",
    "svgs = \"\"\n",
    "times.reverse()\n",
    "converts.reverse()\n",
    "for n, t in enumerate(times):\n",
    "    bar_width = hfpy_utils.convert2range(converts[n], 0, from_max, 0, 350)\n",
    "    svgs = svgs + f\"\"\"\n",
    "    <svg height=\"30\" width=\"400\">\n",
    "        <rect height=\"30\" width=\"{bar_width}\" style=\"fill:rgb(0,0,255);\" />\n",
    "    </svg>{t}<br />\n",
    "\"\"\"\n",
    "\n"
   ]
  },
  {
   "cell_type": "code",
   "execution_count": 6,
   "metadata": {},
   "outputs": [
    {
     "name": "stdout",
     "output_type": "stream",
     "text": [
      "\n",
      "    <svg height=\"30\" width=\"400\">\n",
      "        <rect height=\"30\" width=\"339.76\" style=\"fill:rgb(0,0,255);\" />\n",
      "    </svg>1:28.30<br />\n",
      "\n",
      "    <svg height=\"30\" width=\"400\">\n",
      "        <rect height=\"30\" width=\"338.42\" style=\"fill:rgb(0,0,255);\" />\n",
      "    </svg>1:27.95<br />\n",
      "\n",
      "    <svg height=\"30\" width=\"400\">\n",
      "        <rect height=\"30\" width=\"320.22\" style=\"fill:rgb(0,0,255);\" />\n",
      "    </svg>1:23.22<br />\n",
      "\n",
      "    <svg height=\"30\" width=\"400\">\n",
      "        <rect height=\"30\" width=\"350.0\" style=\"fill:rgb(0,0,255);\" />\n",
      "    </svg>1:30.96<br />\n",
      "\n",
      "    <svg height=\"30\" width=\"400\">\n",
      "        <rect height=\"30\" width=\"311.94\" style=\"fill:rgb(0,0,255);\" />\n",
      "    </svg>1:21.07<br />\n",
      "\n",
      "    <svg height=\"30\" width=\"400\">\n",
      "        <rect height=\"30\" width=\"338.42\" style=\"fill:rgb(0,0,255);\" />\n",
      "    </svg>1:27.95<br />\n",
      "\n"
     ]
    }
   ],
   "source": [
    "print(svgs)"
   ]
  },
  {
   "cell_type": "code",
   "execution_count": 7,
   "metadata": {},
   "outputs": [],
   "source": [
    "footer = f\"\"\"\n",
    "        <p>Average time: {average}</p>\n",
    "    </body>\n",
    "</html>\n",
    "\"\"\""
   ]
  },
  {
   "cell_type": "code",
   "execution_count": 8,
   "metadata": {},
   "outputs": [],
   "source": [
    "page = html + svgs + footer"
   ]
  },
  {
   "cell_type": "code",
   "execution_count": 9,
   "metadata": {},
   "outputs": [],
   "source": [
    "save_to = f\"charts/{fn.removesuffix('.txt')}.html\"\n",
    "with open(save_to, \"w\") as sf:\n",
    "    print(page, file=sf)"
   ]
  },
  {
   "cell_type": "code",
   "execution_count": 10,
   "metadata": {},
   "outputs": [
    {
     "data": {
      "text/plain": [
       "True"
      ]
     },
     "execution_count": 10,
     "metadata": {},
     "output_type": "execute_result"
    }
   ],
   "source": [
    "import os\n",
    "import webbrowser\n",
    "import swimclub\n",
    "chart = swimclub.produce_bar_chart(\"Lizzie-14-100m-Back.txt\")\n",
    "webbrowser.open(\"file://\" + os.path.realpath(chart))"
   ]
  },
  {
   "cell_type": "markdown",
   "metadata": {},
   "source": []
  },
  {
   "cell_type": "code",
   "execution_count": null,
   "metadata": {},
   "outputs": [],
   "source": []
  },
  {
   "cell_type": "code",
   "execution_count": null,
   "metadata": {},
   "outputs": [],
   "source": []
  }
 ],
 "metadata": {
  "kernelspec": {
   "display_name": "Python 3",
   "language": "python",
   "name": "python3"
  },
  "language_info": {
   "codemirror_mode": {
    "name": "ipython",
    "version": 3
   },
   "file_extension": ".py",
   "mimetype": "text/x-python",
   "name": "python",
   "nbconvert_exporter": "python",
   "pygments_lexer": "ipython3",
   "version": "3.10.4"
  }
 },
 "nbformat": 4,
 "nbformat_minor": 2
}
