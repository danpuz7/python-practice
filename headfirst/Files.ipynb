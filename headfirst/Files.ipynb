{
 "cells": [
  {
   "cell_type": "code",
   "execution_count": 9,
   "metadata": {},
   "outputs": [],
   "source": [
    "import swimclub\n"
   ]
  },
  {
   "cell_type": "code",
   "execution_count": 10,
   "metadata": {},
   "outputs": [
    {
     "data": {
      "text/plain": [
       "('Darius',\n",
       " '13',\n",
       " '100m',\n",
       " 'Fly',\n",
       " ['1:27.95', '1:21.07', '1:30.96', '1:23.22', '1:27.95', '1:28.30'],\n",
       " '0:26.57')"
      ]
     },
     "execution_count": 10,
     "metadata": {},
     "output_type": "execute_result"
    }
   ],
   "source": [
    "swimclub.read_swim_data(\"Darius-13-100m-Fly.txt\")\n"
   ]
  },
  {
   "cell_type": "code",
   "execution_count": 11,
   "metadata": {},
   "outputs": [
    {
     "data": {
      "text/plain": [
       "('Darius',\n",
       " '13',\n",
       " '100m',\n",
       " 'Fly',\n",
       " ['1:27.95', '1:21.07', '1:30.96', '1:23.22', '1:27.95', '1:28.30'],\n",
       " '0:26.57')"
      ]
     },
     "execution_count": 11,
     "metadata": {},
     "output_type": "execute_result"
    }
   ],
   "source": [
    "data = swimclub.read_swim_data(\"Darius-13-100m-Fly.txt\")\n",
    "data"
   ]
  },
  {
   "cell_type": "code",
   "execution_count": 12,
   "metadata": {},
   "outputs": [
    {
     "data": {
      "text/plain": [
       "['1:27.95', '1:21.07', '1:30.96', '1:23.22', '1:27.95', '1:28.30']"
      ]
     },
     "execution_count": 12,
     "metadata": {},
     "output_type": "execute_result"
    }
   ],
   "source": [
    "times = data[4]\n",
    "swimmer, age, distance, stroke, times2, average = data\n",
    "times2"
   ]
  },
  {
   "cell_type": "code",
   "execution_count": 13,
   "metadata": {},
   "outputs": [
    {
     "data": {
      "text/plain": [
       "61"
      ]
     },
     "execution_count": 13,
     "metadata": {},
     "output_type": "execute_result"
    }
   ],
   "source": [
    "import os\n",
    "swim_files = os.listdir(swimclub.FOLDER)\n",
    "len(swim_files)"
   ]
  },
  {
   "cell_type": "code",
   "execution_count": 14,
   "metadata": {},
   "outputs": [
    {
     "name": "stdout",
     "output_type": "stream",
     "text": [
      "['.DS_Store', 'Abi-10-100m-Back.txt', 'Abi-10-100m-Breast.txt', 'Abi-10-50m-Back.txt', 'Abi-10-50m-Breast.txt', 'Abi-10-50m-Free.txt', 'Ali-12-100m-Back.txt', 'Ali-12-100m-Free.txt', 'Alison-14-100m-Breast.txt', 'Alison-14-100m-Free.txt', 'Aurora-13-50m-Free.txt', 'Bill-18-100m-Back.txt', 'Bill-18-200m-Back.txt', 'Blake-15-100m-Back.txt', 'Blake-15-100m-Fly.txt', 'Blake-15-100m-Free.txt', 'Calvin-9-50m-Back.txt', 'Calvin-9-50m-Fly.txt', 'Calvin-9-50m-Free.txt', 'Carl-15-100m-Back.txt', 'Chris-17-100m-Back.txt', 'Chris-17-100m-Breast.txt', 'Darius-13-100m-Back.txt', 'Darius-13-100m-Breast.txt', 'Darius-13-100m-Fly.txt', 'Darius-13-200m-IM.txt', 'Dave-17-100m-Free.txt', 'Dave-17-200m-Back.txt', 'Elba-14-100m-Free.txt', 'Emma-13-100m-Breast.txt', 'Emma-13-100m-Free.txt', 'Erika-15-100m-Breast.txt', 'Erika-15-100m-Free.txt', 'Erika-15-200m-Breast.txt', 'Hannah-13-100m-Back.txt', 'Hannah-13-100m-Free.txt', 'Katie-9-100m-Back.txt', 'Katie-9-100m-Breast.txt', 'Katie-9-100m-Free.txt', 'Katie-9-50m-Back.txt', 'Katie-9-50m-Breast.txt', 'Katie-9-50m-Fly.txt', 'Katie-9-50m-Free.txt', 'Lizzie-14-100m-Back.txt', 'Lizzie-14-100m-Free.txt', 'Maria-9-50m-Free.txt', 'Mike-15-100m-Back.txt', 'Mike-15-100m-Fly.txt', 'Mike-15-100m-Free.txt', 'Mike-15-200m-Free.txt', 'Mike-15-200m-IM.txt', 'Owen-15-100m-Free.txt', 'Ruth-13-100m-Back.txt', 'Ruth-13-100m-Free.txt', 'Ruth-13-200m-Back.txt', 'Ruth-13-200m-Free.txt', 'Ruth-13-400m-Free.txt', 'Tasmin-15-100m-Back.txt', 'Tasmin-15-100m-Breast.txt', 'Tasmin-15-100m-Free.txt', 'Tasmin-15-200m-Breast.txt']\n"
     ]
    }
   ],
   "source": [
    "print(sorted(swim_files))"
   ]
  },
  {
   "cell_type": "code",
   "execution_count": 15,
   "metadata": {},
   "outputs": [],
   "source": [
    "swim_files.remove('.DS_Store')"
   ]
  },
  {
   "cell_type": "code",
   "execution_count": 18,
   "metadata": {},
   "outputs": [
    {
     "name": "stdout",
     "output_type": "stream",
     "text": [
      "1 Processing: Hannah-13-100m-Free.txt\n",
      "2 Processing: Darius-13-100m-Back.txt\n",
      "3 Processing: Owen-15-100m-Free.txt\n",
      "4 Processing: Mike-15-100m-Free.txt\n",
      "5 Processing: Hannah-13-100m-Back.txt\n",
      "6 Processing: Mike-15-100m-Back.txt\n",
      "7 Processing: Mike-15-100m-Fly.txt\n",
      "8 Processing: Abi-10-50m-Back.txt\n",
      "9 Processing: Ruth-13-200m-Free.txt\n",
      "10 Processing: Tasmin-15-100m-Back.txt\n",
      "11 Processing: Erika-15-100m-Free.txt\n",
      "12 Processing: Ruth-13-200m-Back.txt\n",
      "13 Processing: Abi-10-50m-Free.txt\n",
      "14 Processing: Maria-9-50m-Free.txt\n",
      "15 Processing: Elba-14-100m-Free.txt\n",
      "16 Processing: Tasmin-15-100m-Free.txt\n",
      "17 Processing: Abi-10-100m-Back.txt\n",
      "18 Processing: Abi-10-50m-Breast.txt\n",
      "19 Processing: Mike-15-200m-IM.txt\n",
      "20 Processing: Ali-12-100m-Back.txt\n",
      "21 Processing: Ruth-13-100m-Back.txt\n",
      "22 Processing: Chris-17-100m-Back.txt\n",
      "23 Processing: Ali-12-100m-Free.txt\n",
      "24 Processing: Darius-13-100m-Breast.txt\n",
      "25 Processing: Ruth-13-100m-Free.txt\n",
      "26 Processing: Aurora-13-50m-Free.txt\n",
      "27 Processing: Katie-9-100m-Breast.txt\n",
      "28 Processing: Alison-14-100m-Breast.txt\n",
      "29 Processing: Ruth-13-400m-Free.txt\n",
      "30 Processing: Emma-13-100m-Free.txt\n",
      "31 Processing: Calvin-9-50m-Fly.txt\n",
      "32 Processing: Darius-13-100m-Fly.txt\n",
      "33 Processing: Mike-15-200m-Free.txt\n",
      "34 Processing: Emma-13-100m-Breast.txt\n",
      "35 Processing: Tasmin-15-100m-Breast.txt\n",
      "36 Processing: Blake-15-100m-Free.txt\n",
      "37 Processing: Abi-10-100m-Breast.txt\n",
      "38 Processing: Chris-17-100m-Breast.txt\n",
      "39 Processing: Blake-15-100m-Back.txt\n",
      "40 Processing: Bill-18-200m-Back.txt\n",
      "41 Processing: Darius-13-200m-IM.txt\n",
      "42 Processing: Dave-17-100m-Free.txt\n",
      "43 Processing: Alison-14-100m-Free.txt\n",
      "44 Processing: Lizzie-14-100m-Free.txt\n",
      "45 Processing: Katie-9-50m-Fly.txt\n",
      "46 Processing: Katie-9-50m-Breast.txt\n",
      "47 Processing: Katie-9-50m-Back.txt\n",
      "48 Processing: Lizzie-14-100m-Back.txt\n",
      "49 Processing: Tasmin-15-200m-Breast.txt\n",
      "50 Processing: Katie-9-50m-Free.txt\n",
      "51 Processing: Dave-17-200m-Back.txt\n",
      "52 Processing: Erika-15-200m-Breast.txt\n",
      "53 Processing: Calvin-9-50m-Back.txt\n",
      "54 Processing: Calvin-9-50m-Free.txt\n",
      "55 Processing: Carl-15-100m-Back.txt\n",
      "56 Processing: Bill-18-100m-Back.txt\n",
      "57 Processing: Katie-9-100m-Free.txt\n",
      "58 Processing: Blake-15-100m-Fly.txt\n",
      "59 Processing: Erika-15-100m-Breast.txt\n",
      "60 Processing: Katie-9-100m-Back.txt\n"
     ]
    }
   ],
   "source": [
    "for n, s in enumerate(swim_files, 1):\n",
    "    print(n, \"Processing:\", s)\n",
    "    swimclub.read_swim_data(s)"
   ]
  },
  {
   "cell_type": "code",
   "execution_count": null,
   "metadata": {},
   "outputs": [],
   "source": []
  }
 ],
 "metadata": {
  "kernelspec": {
   "display_name": "Python 3",
   "language": "python",
   "name": "python3"
  },
  "language_info": {
   "codemirror_mode": {
    "name": "ipython",
    "version": 3
   },
   "file_extension": ".py",
   "mimetype": "text/x-python",
   "name": "python",
   "nbconvert_exporter": "python",
   "pygments_lexer": "ipython3",
   "version": "3.10.4"
  }
 },
 "nbformat": 4,
 "nbformat_minor": 2
}
